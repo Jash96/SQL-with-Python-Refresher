{
 "cells": [
  {
   "cell_type": "code",
   "execution_count": 1,
   "id": "0cecfa24",
   "metadata": {},
   "outputs": [],
   "source": [
    "import sqlite3"
   ]
  },
  {
   "cell_type": "code",
   "execution_count": 2,
   "id": "43df057b",
   "metadata": {},
   "outputs": [],
   "source": [
    "connection = sqlite3.connect('OurDataBase.db')"
   ]
  },
  {
   "cell_type": "code",
   "execution_count": 3,
   "id": "f2ac2074",
   "metadata": {},
   "outputs": [],
   "source": [
    "cursor = connection.cursor()"
   ]
  },
  {
   "cell_type": "code",
   "execution_count": 4,
   "id": "f9fb87ea",
   "metadata": {},
   "outputs": [],
   "source": [
    "#SQLITE Datatypes\n",
    "\n",
    "#INTEGER\n",
    "#REAL (float in Py)\n",
    "#TEXT\n",
    "#BLOBS (Binary Large Objects, Videos, Images,etc)\n",
    "#NULL"
   ]
  },
  {
   "cell_type": "code",
   "execution_count": 5,
   "id": "f5604d91",
   "metadata": {},
   "outputs": [
    {
     "data": {
      "text/plain": [
       "<sqlite3.Cursor at 0x243588d7c00>"
      ]
     },
     "execution_count": 5,
     "metadata": {},
     "output_type": "execute_result"
    }
   ],
   "source": [
    "cursor.execute('CREATE TABLE employees(name TEXT, surname TEXT, salary REAL)')"
   ]
  },
  {
   "cell_type": "code",
   "execution_count": 6,
   "id": "6417d2d6",
   "metadata": {},
   "outputs": [],
   "source": [
    "connection.commit()"
   ]
  },
  {
   "cell_type": "code",
   "execution_count": 7,
   "id": "8c69f662",
   "metadata": {},
   "outputs": [
    {
     "data": {
      "text/plain": [
       "<sqlite3.Cursor at 0x243588d7c00>"
      ]
     },
     "execution_count": 7,
     "metadata": {},
     "output_type": "execute_result"
    }
   ],
   "source": [
    "cursor.execute(\"INSERT INTO employees VALUES('Max','Maxwell', 100000)\")"
   ]
  },
  {
   "cell_type": "code",
   "execution_count": 8,
   "id": "89a33d43",
   "metadata": {},
   "outputs": [],
   "source": [
    "connection.commit()"
   ]
  },
  {
   "cell_type": "code",
   "execution_count": 9,
   "id": "3211f850",
   "metadata": {},
   "outputs": [
    {
     "data": {
      "text/plain": [
       "<sqlite3.Cursor at 0x243588d7c00>"
      ]
     },
     "execution_count": 9,
     "metadata": {},
     "output_type": "execute_result"
    }
   ],
   "source": [
    "cursor.execute(\"SELECT * FROM employees\")"
   ]
  },
  {
   "cell_type": "code",
   "execution_count": 10,
   "id": "58398235",
   "metadata": {},
   "outputs": [
    {
     "data": {
      "text/plain": [
       "('Max', 'Maxwell', 100000.0)"
      ]
     },
     "execution_count": 10,
     "metadata": {},
     "output_type": "execute_result"
    }
   ],
   "source": [
    "cursor.fetchone()"
   ]
  },
  {
   "cell_type": "code",
   "execution_count": 11,
   "id": "6669bb44",
   "metadata": {},
   "outputs": [
    {
     "name": "stdout",
     "output_type": "stream",
     "text": [
      "('Max', 'Maxwell', 100000.0)\n"
     ]
    }
   ],
   "source": [
    "for i in cursor.execute(\"SELECT * FROM employees\"):\n",
    "    print(i)"
   ]
  },
  {
   "cell_type": "code",
   "execution_count": 12,
   "id": "75549f84",
   "metadata": {},
   "outputs": [
    {
     "name": "stdout",
     "output_type": "stream",
     "text": [
      "Provide a name: Anna\n",
      "Provide a surname: White\n",
      "Provide a salary: 1000000\n"
     ]
    }
   ],
   "source": [
    "name = input('Provide a name: ')\n",
    "surname = input('Provide a surname: ')\n",
    "salary = float(input('Provide a salary: '))"
   ]
  },
  {
   "cell_type": "code",
   "execution_count": 13,
   "id": "a7656a37",
   "metadata": {},
   "outputs": [
    {
     "data": {
      "text/plain": [
       "<sqlite3.Cursor at 0x243588d7c00>"
      ]
     },
     "execution_count": 13,
     "metadata": {},
     "output_type": "execute_result"
    }
   ],
   "source": [
    "cursor.execute(\"INSERT INTO employees VALUES(?,?,?)\", (name, surname, salary))"
   ]
  },
  {
   "cell_type": "code",
   "execution_count": 14,
   "id": "387a106f",
   "metadata": {},
   "outputs": [],
   "source": [
    "connection.commit()"
   ]
  },
  {
   "cell_type": "code",
   "execution_count": 15,
   "id": "9028366e",
   "metadata": {},
   "outputs": [
    {
     "data": {
      "text/plain": [
       "<sqlite3.Cursor at 0x243588d7c00>"
      ]
     },
     "execution_count": 15,
     "metadata": {},
     "output_type": "execute_result"
    }
   ],
   "source": [
    "cursor.execute(\"SELECT * FROM employees\")"
   ]
  },
  {
   "cell_type": "code",
   "execution_count": 16,
   "id": "3c09525d",
   "metadata": {},
   "outputs": [],
   "source": [
    "connection.commit()"
   ]
  },
  {
   "cell_type": "code",
   "execution_count": 17,
   "id": "7a6e72d8",
   "metadata": {},
   "outputs": [
    {
     "data": {
      "text/plain": [
       "[('Max', 'Maxwell', 100000.0), ('Anna', 'White', 1000000.0)]"
      ]
     },
     "execution_count": 17,
     "metadata": {},
     "output_type": "execute_result"
    }
   ],
   "source": [
    "cursor.fetchall()"
   ]
  },
  {
   "cell_type": "code",
   "execution_count": 18,
   "id": "042f9292",
   "metadata": {},
   "outputs": [],
   "source": [
    "class SQLinput:\n",
    "    \n",
    "    def __init__(self,name,surname,salary):\n",
    "        self.name = name\n",
    "        self.surname = surname\n",
    "        self.salary = salary"
   ]
  },
  {
   "cell_type": "code",
   "execution_count": 19,
   "id": "ff8058f2",
   "metadata": {},
   "outputs": [],
   "source": [
    "inst = SQLinput('Denzel', 'Sullivan',1000000)"
   ]
  },
  {
   "cell_type": "code",
   "execution_count": 20,
   "id": "10f88158",
   "metadata": {},
   "outputs": [],
   "source": [
    "name, surname, salary = inst.name, inst.surname, inst.salary"
   ]
  },
  {
   "cell_type": "code",
   "execution_count": 21,
   "id": "86fae262",
   "metadata": {},
   "outputs": [
    {
     "data": {
      "text/plain": [
       "<sqlite3.Cursor at 0x243588d7c00>"
      ]
     },
     "execution_count": 21,
     "metadata": {},
     "output_type": "execute_result"
    }
   ],
   "source": [
    "cursor.execute(\"INSERT INTO employees VALUES(?,?,?)\", (name, surname, salary))"
   ]
  },
  {
   "cell_type": "code",
   "execution_count": 22,
   "id": "6b95c9d5",
   "metadata": {},
   "outputs": [],
   "source": [
    "connection.commit()"
   ]
  },
  {
   "cell_type": "code",
   "execution_count": 23,
   "id": "64e98382",
   "metadata": {},
   "outputs": [
    {
     "data": {
      "text/plain": [
       "<sqlite3.Cursor at 0x243588d7c00>"
      ]
     },
     "execution_count": 23,
     "metadata": {},
     "output_type": "execute_result"
    }
   ],
   "source": [
    "cursor.execute(\"SELECT * FROM employees\")"
   ]
  },
  {
   "cell_type": "code",
   "execution_count": 24,
   "id": "dc6a88ed",
   "metadata": {},
   "outputs": [],
   "source": [
    "connection.commit()"
   ]
  },
  {
   "cell_type": "code",
   "execution_count": 25,
   "id": "dd67fc63",
   "metadata": {},
   "outputs": [
    {
     "data": {
      "text/plain": [
       "[('Max', 'Maxwell', 100000.0),\n",
       " ('Anna', 'White', 1000000.0),\n",
       " ('Denzel', 'Sullivan', 1000000.0)]"
      ]
     },
     "execution_count": 25,
     "metadata": {},
     "output_type": "execute_result"
    }
   ],
   "source": [
    "cursor.fetchall()"
   ]
  },
  {
   "cell_type": "code",
   "execution_count": 26,
   "id": "2c272901",
   "metadata": {},
   "outputs": [],
   "source": [
    "connection.close()"
   ]
  },
  {
   "cell_type": "code",
   "execution_count": null,
   "id": "621a1ba6",
   "metadata": {},
   "outputs": [],
   "source": []
  }
 ],
 "metadata": {
  "kernelspec": {
   "display_name": "Python 3 (ipykernel)",
   "language": "python",
   "name": "python3"
  },
  "language_info": {
   "codemirror_mode": {
    "name": "ipython",
    "version": 3
   },
   "file_extension": ".py",
   "mimetype": "text/x-python",
   "name": "python",
   "nbconvert_exporter": "python",
   "pygments_lexer": "ipython3",
   "version": "3.9.12"
  }
 },
 "nbformat": 4,
 "nbformat_minor": 5
}
